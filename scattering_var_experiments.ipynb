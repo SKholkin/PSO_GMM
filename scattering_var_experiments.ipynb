{
 "cells": [
  {
   "cell_type": "code",
   "execution_count": 1,
   "metadata": {},
   "outputs": [],
   "source": [
    "from pso import PSO, PSOConfig\n",
    "from addict import Dict\n",
    "from copy import deepcopy\n",
    "import csv\n",
    "import datetime\n",
    "import numpy as np\n",
    "import argparse\n",
    "from utils import load_dataset, real_dataset_names\n",
    "from sklearn.mixture import GaussianMixture"
   ]
  },
  {
   "cell_type": "code",
   "execution_count": 18,
   "metadata": {},
   "outputs": [
    {
     "name": "stdout",
     "output_type": "stream",
     "text": [
      "Basic precision matrix mean value 49.204366622925455\n",
      "Random scattering results: [0]\n",
      "Basic EM score 75.09418854904652\n",
      "Iter 0 Particles reinit\n",
      "PSO: Rerun EM best fintess score 71.08001832969492\n",
      "PSO: Max fitness score 60.043971841724634\n",
      "Iter 5 Particles reinit\n",
      "PSO: Rerun EM best fintess score 71.92561470658876\n",
      "PSO: Max fitness score 61.7663145271997\n",
      "Iter 10 Particles reinit\n",
      "PSO: Rerun EM best fintess score 72.31233938466802\n",
      "PSO: Max fitness score 62.87517801760006\n",
      "Iter 15 Particles reinit\n",
      "PSO: Rerun EM best fintess score 73.5028967943923\n",
      "PSO: Max fitness score 64.58953611399673\n",
      "Iter 20 Particles reinit\n",
      "PSO: Rerun EM best fintess score 74.0354057728977\n",
      "PSO: Max fitness score 66.41415833603577\n",
      "Reference GMM 2 * n_particles inits, T1 * T2 iters: 75.33419335887442\n",
      "Basic precision matrix mean value 57.485524885474916\n",
      "Random scattering results: [0]\n",
      "Basic EM score 75.88210681227058\n",
      "Iter 0 Particles reinit\n",
      "PSO: Rerun EM best fintess score 71.5002964262168\n",
      "PSO: Max fitness score 62.471447095869344\n",
      "Iter 5 Particles reinit\n",
      "PSO: Rerun EM best fintess score 72.40024205539429\n",
      "PSO: Max fitness score 63.37929974980728\n",
      "Iter 10 Particles reinit\n",
      "PSO: Rerun EM best fintess score 72.82342640243283\n",
      "PSO: Max fitness score 63.98211556784132\n",
      "Iter 15 Particles reinit\n",
      "PSO: Rerun EM best fintess score 74.61832109118062\n",
      "PSO: Max fitness score 65.56994111343889\n",
      "Iter 20 Particles reinit\n",
      "PSO: Rerun EM best fintess score 75.1237724613642\n",
      "PSO: Max fitness score 67.52004023033155\n",
      "Reference GMM 2 * n_particles inits, T1 * T2 iters: 75.44297267769163\n",
      "Basic precision matrix mean value 46.8394575931183\n",
      "Random scattering results: [0]\n",
      "Basic EM score 75.15909668127019\n",
      "Iter 0 Particles reinit\n",
      "PSO: Rerun EM best fintess score 72.23815915862819\n",
      "PSO: Max fitness score 59.14344092492991\n",
      "Iter 5 Particles reinit\n",
      "PSO: Rerun EM best fintess score 73.12658418508208\n",
      "PSO: Max fitness score 60.43779034234736\n",
      "Iter 10 Particles reinit\n",
      "PSO: Rerun EM best fintess score 73.9010483891435\n",
      "PSO: Max fitness score 62.529317347953864\n",
      "Iter 15 Particles reinit\n",
      "PSO: Rerun EM best fintess score 74.54912302428745\n",
      "PSO: Max fitness score 64.51984300548659\n",
      "Iter 20 Particles reinit\n",
      "PSO: Rerun EM best fintess score 75.3457480862068\n",
      "PSO: Max fitness score 66.44854154194286\n",
      "Reference GMM 2 * n_particles inits, T1 * T2 iters: 75.86836032575708\n"
     ]
    }
   ],
   "source": [
    "\n",
    "config_name = 'configs/params_landsat.json'\n",
    "\n",
    "config = PSOConfig.from_json(config_name)\n",
    "\n",
    "init_scales = [0.001, 0.003, 0.01, 0.03]\n",
    "\n",
    "init_scales = [0.01]\n",
    "\n",
    "n_runs = 3\n",
    "\n",
    "results_list = []\n",
    "\n",
    "dataset_name = 'landsat'\n",
    "data = load_dataset(dataset_name)\n",
    "\n",
    "results = {scale: {} for scale in init_scales}\n",
    "for scale in init_scales:\n",
    "    config.init_scale = scale\n",
    "\n",
    "    for run in range(n_runs):\n",
    "        results_list.append(pso_vs_em_experiment(config, data))\n",
    "\n",
    "    for key in results_list[0].keys():\n",
    "        results[scale][key] = f'{np.mean([item[key] for item in results_list])} +- {np.std([item[key] for item in results_list])}'\n"
   ]
  },
  {
   "cell_type": "code",
   "execution_count": 17,
   "metadata": {},
   "outputs": [
    {
     "data": {
      "text/plain": [
       "{0.003: {'em': '75.78490957565921 +- 0.16608005746356136',\n",
       "  'pso': '75.88803917437002 +- 0.14001455099619786',\n",
       "  'ref_gmm_score': '75.74072038078435 +- 0.1933872221674909',\n",
       "  'random_scattering': '0.0 +- 0.0'}}"
      ]
     },
     "execution_count": 17,
     "metadata": {},
     "output_type": "execute_result"
    }
   ],
   "source": [
    "results"
   ]
  },
  {
   "cell_type": "code",
   "execution_count": 3,
   "metadata": {},
   "outputs": [],
   "source": [
    "\n",
    "def pso_vs_em_experiment(config, data):\n",
    "\n",
    "    pso = PSO(data, config)\n",
    "    n_iters = config.n_iters\n",
    "    T1 = config.T1\n",
    "\n",
    "    print(f'Basic precision matrix mean value {np.sqrt(np.mean(pso.basic_prec_matr))}')\n",
    "\n",
    "    random_scattering_scores = [0]\n",
    "\n",
    "    for i in range(0):\n",
    "        pso.reinit_particles()\n",
    "        rerun_em_fintess_score_list = pso.run_em_particles_fintess_score()\n",
    "        random_scattering_scores.append(max(rerun_em_fintess_score_list))\n",
    "\n",
    "    print(f'Random scattering results: {random_scattering_scores}')\n",
    "\n",
    "    pso.reinit_particles()\n",
    "\n",
    "    gmm_reinit_pso_scores = []\n",
    "    # M * T_1 * T_2 EM iterations for basic EM init\n",
    "    print('Basic EM score', pso.basic_gmm_score)\n",
    "\n",
    "    # M * T_1 * T_2 EM iterations for EM init from PSO particles positions\n",
    "    for i in range(n_iters + 1):\n",
    "        pso.step()\n",
    "        if  i % (n_iters // (T1 - 1)) == 0:\n",
    "            print(f'Iter {i} Particles reinit')\n",
    "\n",
    "            rerun_em_fintess_score_list = pso.run_em_particles_fintess_score()\n",
    "            fintess_score_list = pso.get_particles_fitness_scores()\n",
    "\n",
    "            gmm_reinit_pso_scores.append(max(rerun_em_fintess_score_list))\n",
    "            print('PSO: Rerun EM best fintess score', max(rerun_em_fintess_score_list))\n",
    "            print(f'PSO: Max fitness score {max(fintess_score_list)}')\n",
    "\n",
    "    init_gmm_em_score = pso.basic_gmm_score\n",
    "\n",
    "    # init big EM with 2 * M * T_1 * T_2 EM iteration budget\n",
    "    \n",
    "    T1 = config.T1\n",
    "    T2 = config.T2\n",
    "    \n",
    "    reference_gmm = GaussianMixture(n_components=config.n_components, covariance_type='full', n_init=2 * config.n_particles, max_iter=T2 * T1,  init_params=config.EM_init_method)\n",
    "    reference_gmm.fit(data)\n",
    "\n",
    "    print('Reference GMM 2 * n_particles inits, T1 * T2 iters:', reference_gmm.score(data))\n",
    "\n",
    "    return {'em': init_gmm_em_score, 'pso': max(gmm_reinit_pso_scores), 'ref_gmm_score': reference_gmm.score(data), 'random_scattering': max(random_scattering_scores)}\n",
    "    "
   ]
  },
  {
   "cell_type": "code",
   "execution_count": null,
   "metadata": {},
   "outputs": [],
   "source": []
  }
 ],
 "metadata": {
  "kernelspec": {
   "display_name": "python_venv",
   "language": "python",
   "name": "python3"
  },
  "language_info": {
   "codemirror_mode": {
    "name": "ipython",
    "version": 3
   },
   "file_extension": ".py",
   "mimetype": "text/x-python",
   "name": "python",
   "nbconvert_exporter": "python",
   "pygments_lexer": "ipython3",
   "version": "3.10.6"
  },
  "orig_nbformat": 4,
  "vscode": {
   "interpreter": {
    "hash": "50e08e26be32a7b8922986e395fa6399600d4448a35a035137afed8a79926531"
   }
  }
 },
 "nbformat": 4,
 "nbformat_minor": 2
}
