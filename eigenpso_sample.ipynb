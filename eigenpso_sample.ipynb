{
 "cells": [
  {
   "cell_type": "code",
   "execution_count": 47,
   "metadata": {},
   "outputs": [],
   "source": [
    "import pso\n",
    "import particle\n",
    "import os\n",
    "from utils import load_cloud_dataset, load_breast_cancer, load_seg_data, load_digits_dataset, load_satelite_dataset, load_synthetic_dataset\n",
    "import importlib\n",
    "import numpy as np\n"
   ]
  },
  {
   "cell_type": "code",
   "execution_count": 64,
   "metadata": {},
   "outputs": [
    {
     "data": {
      "text/plain": [
       "<module 'pso' from '/home/skholkin/projects/PSO_GMM/pso.py'>"
      ]
     },
     "execution_count": 64,
     "metadata": {},
     "output_type": "execute_result"
    }
   ],
   "source": [
    "importlib.reload(particle)\n",
    "importlib.reload(pso)"
   ]
  },
  {
   "cell_type": "code",
   "execution_count": 65,
   "metadata": {},
   "outputs": [
    {
     "name": "stdout",
     "output_type": "stream",
     "text": [
      "EIGENVALUES\n",
      "1000000.0000015451 222804.65529361478 10.500904685784246\n",
      "503171.2497415487 46802.96368229134 21.63894370758232\n",
      "1000000.0000018503 244715.24548013258 4.805923404624614\n",
      "393870.03645539936 30763.40582290684 9.478163306699987\n",
      "813129.6763691375 76979.28471067852 22.19827612667513\n",
      "1000000.0000119535 533451.1470847252 3.52845211513864\n",
      "462406.4006508966 41812.72360105452 10.64992529580464\n",
      "714619.1394026444 66597.1057212126 19.831140356077107\n",
      "1000000.0000086067 533488.5874825991 4.94679984935979\n",
      "526025.9687716257 40068.82710843089 9.349989085395267\n",
      "Max egival for random scattering:  4006.8827108430887\n",
      "em :  73.59465820908106  +-  0.0\n",
      "pso :  74.58922107423383  +-  0.0\n",
      "ref_em :  74.63036707963411  +-  0.0\n"
     ]
    }
   ],
   "source": [
    "config = pso.PSOConfig.from_json(os.path.join('configs', 'default_params.json'))\n",
    "\n",
    "data = load_breast_cancer()\n",
    "# synth_dataset_name = 'Synthetic_dim_50_n_samples_1000_n_comp_15_c_separation_1.0.data.npy'\n",
    "# data = load_synthetic_dataset(synth_dataset_name)\n",
    "n_runs = 5\n",
    "res = []\n",
    "for i in range(n_runs):\n",
    "    pso_algo = pso.PSOEigen(data, config)\n",
    "    res.append(pso_algo.run())\n",
    "\n",
    "for key in res[0].keys():\n",
    "    value = np.mean([item[key] for item in res])\n",
    "    std = np.std([item[key] for item in res])\n",
    "    print(key, ': ', value, ' +- ', std)"
   ]
  },
  {
   "cell_type": "code",
   "execution_count": 59,
   "metadata": {},
   "outputs": [
    {
     "name": "stdout",
     "output_type": "stream",
     "text": [
      "EIGENVALUES\n",
      "1000000.000005306 433886.38766594057 5.434967403384544\n",
      "440383.22067199345 30190.48854188338 10.423094140519735\n",
      "698172.8895151264 59298.76011480407 15.330658336245865\n",
      "1000000.0000066959 700069.8482806097 10.597123033321955\n",
      "1000000.0000078125 566835.4528054115 4.024749282315477\n",
      "1000000.0000085386 466951.1656378706 3.518141313644792\n",
      "273815.855367959 21353.803394510986 5.472195830869321\n",
      "1000000.0000008665 343112.9839048189 10.475700066082544\n",
      "351663.7229727843 27062.555771612486 15.353888837752136\n",
      "700844.7835859675 71654.01215549884 22.07853415738265\n",
      "Max egival for random scattering:  7165.401215549885\n"
     ]
    }
   ],
   "source": [
    "res_dict = pso_algo.run()"
   ]
  },
  {
   "cell_type": "code",
   "execution_count": 60,
   "metadata": {},
   "outputs": [
    {
     "data": {
      "text/plain": [
       "{'em': 74.24607799008619,\n",
       " 'pso': 74.48534941906306,\n",
       " 'ref_em_score': 74.16039295495584}"
      ]
     },
     "execution_count": 60,
     "metadata": {},
     "output_type": "execute_result"
    }
   ],
   "source": [
    "res_dict"
   ]
  },
  {
   "cell_type": "code",
   "execution_count": 12,
   "metadata": {},
   "outputs": [],
   "source": [
    "import numpy as np\n",
    "from utils import _givens_rotation_matrix_entries\n",
    "\n",
    "def QRGivens_slow(A):\n",
    "    if np.linalg.det(A) < 0:\n",
    "        A = -A\n",
    "    \"\"\"Perform QR decomposition of matrix A using Givens rotation.\"\"\"\n",
    "    (num_rows, num_cols) = np.shape(A)\n",
    "\n",
    "    # Initialize orthogonal matrix Q and upper triangular matrix R.\n",
    "    Q = np.identity(num_rows)\n",
    "    R = np.copy(A)\n",
    "    phi_list = []\n",
    "\n",
    "    # Iterate over lower triangular matrix.\n",
    "    (rows, cols) = np.tril_indices(num_rows, -1, num_cols)\n",
    "    i = 0\n",
    "    for (row, col) in zip(rows, cols):\n",
    "        i += 1\n",
    "\n",
    "        # Compute Givens rotation matrix and\n",
    "        # zero-out lower triangular matrix entries.\n",
    "        (c, s) = _givens_rotation_matrix_entries(R[col, col], R[row, col])\n",
    "\n",
    "\n",
    "        phi = np.arccos(c)\n",
    "        # if sin(phi) < 0\n",
    "        if s > 0:\n",
    "            phi = -phi\n",
    "\n",
    "        # Turning first element into 1 instead of -1\n",
    "        if c * R[col, col] - s * R[row, col] < 0:\n",
    "            phi = phi - np.pi\n",
    "            c = -c\n",
    "            s = -s\n",
    "\n",
    "        G = np.identity(num_rows)\n",
    "        G[col, col] = c\n",
    "        G[row, row] = c\n",
    "        phi_list.append(phi)\n",
    "        G[row, col] = s\n",
    "        G[col, row] = -s\n",
    "\n",
    "        R = np.dot(G, R)\n",
    "\n",
    "        Q = np.dot(Q, G.T)\n",
    "\n",
    "    return Q, R, phi_list\n",
    "\n",
    "\n",
    "def QRGivens_fast(A):\n",
    "    if np.linalg.det(A) < 0:\n",
    "        A = -A\n",
    "    \"\"\"Perform QR decomposition of matrix A using Givens rotation.\"\"\"\n",
    "    (num_rows, num_cols) = np.shape(A)\n",
    "\n",
    "    # Initialize orthogonal matrix Q and upper triangular matrix R.\n",
    "    Q = np.identity(num_rows)\n",
    "    R = np.copy(A)\n",
    "    phi_list = []\n",
    "\n",
    "    # Iterate over lower triangular matrix.\n",
    "    (rows, cols) = np.tril_indices(num_rows, -1, num_cols)\n",
    "    i = 0\n",
    "    for (row, col) in zip(rows, cols):\n",
    "        i += 1\n",
    "\n",
    "        # Compute Givens rotation matrix and\n",
    "        # zero-out lower triangular matrix entries.\n",
    "        (c, s) = _givens_rotation_matrix_entries(R[col, col], R[row, col])\n",
    "\n",
    "\n",
    "        phi = np.arccos(c)\n",
    "        # if sin(phi) < 0\n",
    "        if s > 0:\n",
    "            phi = -phi\n",
    "\n",
    "        # Turning first element into 1 instead of -1\n",
    "        if c * R[col, col] - s * R[row, col] < 0:\n",
    "            phi = phi - np.pi\n",
    "            c = -c\n",
    "            s = -s\n",
    "\n",
    "        G = np.identity(num_rows)\n",
    "        G[col, col] = c\n",
    "        G[row, row] = c\n",
    "        phi_list.append(phi)\n",
    "        G[row, col] = s\n",
    "        G[col, row] = -s\n",
    "\n",
    "        R[col], R[row] = R[col]*c + R[row]*(-s), R[col]*s + R[row]*c\n",
    "        Q[:, col], Q[:, row] = Q[:, col]*c + Q[:, row]*(-s), Q[:, col]*s + Q[:, row]*c\n",
    "\n",
    "        # R = np.dot(G, R)\n",
    "\n",
    "        # Q = np.dot(Q, G.T)\n",
    "\n",
    "    return Q, R, phi_list\n"
   ]
  },
  {
   "cell_type": "code",
   "execution_count": 14,
   "metadata": {},
   "outputs": [
    {
     "name": "stdout",
     "output_type": "stream",
     "text": [
      "25.8 ms ± 85.6 µs per loop (mean ± std. dev. of 7 runs, 10 loops each)\n",
      "67.1 µs ± 1.52 µs per loop (mean ± std. dev. of 7 runs, 10,000 loops each)\n",
      "361 µs ± 40.6 µs per loop (mean ± std. dev. of 7 runs, 1,000 loops each)\n",
      "32.4 ms ± 391 µs per loop (mean ± std. dev. of 7 runs, 10 loops each)\n"
     ]
    }
   ],
   "source": [
    "from utils import QRGivens\n",
    "\n",
    "dim = 50\n",
    "\n",
    "from sklearn.datasets import make_spd_matrix\n",
    "A = make_spd_matrix(dim)\n",
    "\n",
    "%timeit QRGivens_fast(A)\n",
    "%timeit np.linalg.qr(A)\n",
    "%timeit np.linalg.eigh(A)\n",
    "%timeit QRGivens_slow(A)"
   ]
  },
  {
   "cell_type": "code",
   "execution_count": 10,
   "metadata": {},
   "outputs": [
    {
     "name": "stdout",
     "output_type": "stream",
     "text": [
      "17.2 ms ± 1.38 ms per loop (mean ± std. dev. of 7 runs, 10 loops each)\n"
     ]
    }
   ],
   "source": [
    "\n",
    "%timeit np.linalg.eigh(A)"
   ]
  },
  {
   "cell_type": "code",
   "execution_count": null,
   "metadata": {},
   "outputs": [],
   "source": []
  }
 ],
 "metadata": {
  "kernelspec": {
   "display_name": "python_venv",
   "language": "python",
   "name": "python3"
  },
  "language_info": {
   "codemirror_mode": {
    "name": "ipython",
    "version": 3
   },
   "file_extension": ".py",
   "mimetype": "text/x-python",
   "name": "python",
   "nbconvert_exporter": "python",
   "pygments_lexer": "ipython3",
   "version": "3.10.6"
  },
  "orig_nbformat": 4,
  "vscode": {
   "interpreter": {
    "hash": "50e08e26be32a7b8922986e395fa6399600d4448a35a035137afed8a79926531"
   }
  }
 },
 "nbformat": 4,
 "nbformat_minor": 2
}
