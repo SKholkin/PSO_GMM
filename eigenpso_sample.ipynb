{
 "cells": [
  {
   "cell_type": "code",
   "execution_count": 3,
   "metadata": {},
   "outputs": [],
   "source": [
    "import pso\n",
    "import particle\n",
    "import os\n",
    "from utils import load_cloud_dataset, load_breast_cancer, load_seg_data, load_digits_dataset, load_satelite_dataset, load_synthetic_dataset\n",
    "import importlib\n",
    "import numpy as np\n",
    "import utils\n"
   ]
  },
  {
   "cell_type": "code",
   "execution_count": 60,
   "metadata": {},
   "outputs": [
    {
     "data": {
      "text/plain": [
       "<module 'utils' from '/home/skholkin/projects/PSO_GMM/utils.py'>"
      ]
     },
     "execution_count": 60,
     "metadata": {},
     "output_type": "execute_result"
    }
   ],
   "source": [
    "importlib.reload(particle)\n",
    "importlib.reload(pso)\n",
    "importlib.reload(utils)"
   ]
  },
  {
   "cell_type": "code",
   "execution_count": 65,
   "metadata": {},
   "outputs": [
    {
     "name": "stdout",
     "output_type": "stream",
     "text": [
      "Time for GMM init:  9.568243026733398  sec\n",
      "Time for GMM reinit:  27.86493992805481  sec\n",
      "Time for GMM reinit:  30.005738735198975  sec\n",
      "Time for GMM reinit:  30.09090566635132  sec\n",
      "{'em': 95.23865893305768, 'pso': 100.89518260508814, 'transformed': -inf, 'ref_em': 93.00234809669057}\n",
      "Time for GMM init:  9.278109312057495  sec\n",
      "Time for GMM reinit:  28.766791343688965  sec\n",
      "Time for GMM reinit:  29.647016048431396  sec\n",
      "Time for GMM reinit:  30.395034074783325  sec\n",
      "{'em': 93.3422619158552, 'pso': 97.42906612357137, 'transformed': -inf, 'ref_em': 95.08260707918774}\n",
      "Time for GMM init:  11.760849952697754  sec\n",
      "Time for GMM reinit:  31.38305115699768  sec\n",
      "Time for GMM reinit:  32.39162635803223  sec\n",
      "Time for GMM reinit:  30.369343996047974  sec\n",
      "{'em': 94.26111198288726, 'pso': 98.34193101712603, 'transformed': -inf, 'ref_em': 94.30227067505649}\n",
      "Time for GMM init:  10.757892847061157  sec\n",
      "Time for GMM reinit:  28.10406994819641  sec\n",
      "Time for GMM reinit:  30.008288860321045  sec\n",
      "Time for GMM reinit:  27.796077013015747  sec\n",
      "{'em': 93.5033215949786, 'pso': 96.67048148739912, 'transformed': -inf, 'ref_em': 93.96077662252841}\n",
      "Time for GMM init:  9.415172100067139  sec\n",
      "Time for GMM reinit:  31.07430911064148  sec\n",
      "Time for GMM reinit:  29.85083031654358  sec\n",
      "Time for GMM reinit:  31.82424521446228  sec\n",
      "{'em': 93.90289617465463, 'pso': 96.74544404366873, 'transformed': -inf, 'ref_em': 95.2697042042651}\n",
      "Eig Coef 0.03\n",
      "em :  94.04965012028667  +-  0.6751100245255239\n",
      "Eig Coef 0.03\n",
      "pso :  98.01642105537067  +-  1.5598170723613012\n",
      "Eig Coef 0.03\n",
      "transformed :  -inf  +-  nan\n",
      "Eig Coef 0.03\n",
      "ref_em :  94.32354133554567  +-  0.8184139820065189\n"
     ]
    },
    {
     "name": "stderr",
     "output_type": "stream",
     "text": [
      "/home/skholkin/projects/python_venv/lib/python3.10/site-packages/numpy/core/_methods.py:233: RuntimeWarning: invalid value encountered in subtract\n",
      "  x = asanyarray(arr - arrmean)\n"
     ]
    }
   ],
   "source": [
    "config = pso.PSOConfig.from_json(os.path.join('configs', 'default_params.json'))\n",
    "\n",
    "data = load_seg_data()\n",
    "synth_dataset_name = 'Synthetic_dim_70_n_samples_1000_n_comp_15_c_separation_2.0.data.npy'\n",
    "data = load_synthetic_dataset(synth_dataset_name)\n",
    "n_runs = 5\n",
    "eig_coef_list = [0.03, 0.1, 0.3, 1, 3]\n",
    "eig_coef_list = [0.03]\n",
    "\n",
    "for coef in eig_coef_list:\n",
    "    config.eigvals_coef = coef\n",
    "\n",
    "    res = []\n",
    "    for i in range(n_runs):\n",
    "\n",
    "        pso_algo = pso.PSOEigen(data, config)\n",
    "        res.append(pso_algo.run())\n",
    "        print(res[-1])\n",
    "\n",
    "    for key in res[0].keys():\n",
    "        value = np.mean([item[key] for item in res])\n",
    "\n",
    "        std = np.std([item[key] for item in res])\n",
    "        print('Eig Coef', coef)\n",
    "        print(key, ': ', value, ' +- ', std)"
   ]
  },
  {
   "cell_type": "code",
   "execution_count": 60,
   "metadata": {},
   "outputs": [
    {
     "data": {
      "text/plain": [
       "{'em': 74.24607799008619,\n",
       " 'pso': 74.48534941906306,\n",
       " 'ref_em_score': 74.16039295495584}"
      ]
     },
     "execution_count": 60,
     "metadata": {},
     "output_type": "execute_result"
    }
   ],
   "source": [
    "res_dict"
   ]
  },
  {
   "cell_type": "code",
   "execution_count": 1,
   "metadata": {},
   "outputs": [
    {
     "data": {
      "text/plain": [
       "[]"
      ]
     },
     "execution_count": 1,
     "metadata": {},
     "output_type": "execute_result"
    },
    {
     "data": {
      "image/png": "[encoded data removed]",
      "text/plain": [
       "<Figure size 640x480 with 1 Axes>"
      ]
     },
     "metadata": {},
     "output_type": "display_data"
    }
   ],
   "source": [
    "import matplotlib.pyplot as plt\n",
    "\n",
    "res = [75.32, 75.37, 75.01, 74.9, 75.15, 75.12]\n",
    "sigmas = [1e-02, 3e-02, 1e-1, 3e-1, 1, 3]\n",
    "\n",
    "plt.plot(sigmas, res, c='blue', label='Spectral Param + PSO')\n",
    "plt.plot(sigmas, [74.64 for i in range(len(res))], c='red', label='EM reference')\n",
    "plt.legend()\n",
    "plt.xscale('log')\n",
    "plt.plot()\n"
   ]
  },
  {
   "cell_type": "code",
   "execution_count": null,
   "metadata": {},
   "outputs": [],
   "source": []
  }
 ],
 "metadata": {
  "kernelspec": {
   "display_name": "python_venv",
   "language": "python",
   "name": "python3"
  },
  "language_info": {
   "codemirror_mode": {
    "name": "ipython",
    "version": 3
   },
   "file_extension": ".py",
   "mimetype": "text/x-python",
   "name": "python",
   "nbconvert_exporter": "python",
   "pygments_lexer": "ipython3",
   "version": "3.10.6"
  },
  "orig_nbformat": 4,
  "vscode": {
   "interpreter": {
    "hash": "50e08e26be32a7b8922986e395fa6399600d4448a35a035137afed8a79926531"
   }
  }
 },
 "nbformat": 4,
 "nbformat_minor": 2
}
