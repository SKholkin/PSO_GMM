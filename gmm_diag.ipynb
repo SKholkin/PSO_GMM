{
 "cells": [
  {
   "cell_type": "code",
   "execution_count": 1,
   "id": "9e2d9265",
   "metadata": {},
   "outputs": [],
   "source": [
    "from utils import load_dataset, load_texture_dataset, load_nci9\n",
    "\n",
    "import numpy as np\n",
    "from sklearn.mixture import GaussianMixture\n",
    "from sklearn.metrics import mutual_info_score, silhouette_score\n",
    "from sklearn.cluster import KMeans\n"
   ]
  },
  {
   "cell_type": "code",
   "execution_count": 4,
   "id": "795b0dbb",
   "metadata": {},
   "outputs": [
    {
     "name": "stderr",
     "output_type": "stream",
     "text": [
      "/home/skholkin/projects/python_venv/lib/python3.10/site-packages/sklearn/cluster/_kmeans.py:870: FutureWarning: The default value of `n_init` will change from 10 to 'auto' in 1.4. Set the value of `n_init` explicitly to suppress the warning\n",
      "  warnings.warn(\n"
     ]
    },
    {
     "data": {
      "text/html": [
       "<style>#sk-container-id-1 {color: black;background-color: white;}#sk-container-id-1 pre{padding: 0;}#sk-container-id-1 div.sk-toggleable {background-color: white;}#sk-container-id-1 label.sk-toggleable__label {cursor: pointer;display: block;width: 100%;margin-bottom: 0;padding: 0.3em;box-sizing: border-box;text-align: center;}#sk-container-id-1 label.sk-toggleable__label-arrow:before {content: \"▸\";float: left;margin-right: 0.25em;color: #696969;}#sk-container-id-1 label.sk-toggleable__label-arrow:hover:before {color: black;}#sk-container-id-1 div.sk-estimator:hover label.sk-toggleable__label-arrow:before {color: black;}#sk-container-id-1 div.sk-toggleable__content {max-height: 0;max-width: 0;overflow: hidden;text-align: left;background-color: #f0f8ff;}#sk-container-id-1 div.sk-toggleable__content pre {margin: 0.2em;color: black;border-radius: 0.25em;background-color: #f0f8ff;}#sk-container-id-1 input.sk-toggleable__control:checked~div.sk-toggleable__content {max-height: 200px;max-width: 100%;overflow: auto;}#sk-container-id-1 input.sk-toggleable__control:checked~label.sk-toggleable__label-arrow:before {content: \"▾\";}#sk-container-id-1 div.sk-estimator input.sk-toggleable__control:checked~label.sk-toggleable__label {background-color: #d4ebff;}#sk-container-id-1 div.sk-label input.sk-toggleable__control:checked~label.sk-toggleable__label {background-color: #d4ebff;}#sk-container-id-1 input.sk-hidden--visually {border: 0;clip: rect(1px 1px 1px 1px);clip: rect(1px, 1px, 1px, 1px);height: 1px;margin: -1px;overflow: hidden;padding: 0;position: absolute;width: 1px;}#sk-container-id-1 div.sk-estimator {font-family: monospace;background-color: #f0f8ff;border: 1px dotted black;border-radius: 0.25em;box-sizing: border-box;margin-bottom: 0.5em;}#sk-container-id-1 div.sk-estimator:hover {background-color: #d4ebff;}#sk-container-id-1 div.sk-parallel-item::after {content: \"\";width: 100%;border-bottom: 1px solid gray;flex-grow: 1;}#sk-container-id-1 div.sk-label:hover label.sk-toggleable__label {background-color: #d4ebff;}#sk-container-id-1 div.sk-serial::before {content: \"\";position: absolute;border-left: 1px solid gray;box-sizing: border-box;top: 0;bottom: 0;left: 50%;z-index: 0;}#sk-container-id-1 div.sk-serial {display: flex;flex-direction: column;align-items: center;background-color: white;padding-right: 0.2em;padding-left: 0.2em;position: relative;}#sk-container-id-1 div.sk-item {position: relative;z-index: 1;}#sk-container-id-1 div.sk-parallel {display: flex;align-items: stretch;justify-content: center;background-color: white;position: relative;}#sk-container-id-1 div.sk-item::before, #sk-container-id-1 div.sk-parallel-item::before {content: \"\";position: absolute;border-left: 1px solid gray;box-sizing: border-box;top: 0;bottom: 0;left: 50%;z-index: -1;}#sk-container-id-1 div.sk-parallel-item {display: flex;flex-direction: column;z-index: 1;position: relative;background-color: white;}#sk-container-id-1 div.sk-parallel-item:first-child::after {align-self: flex-end;width: 50%;}#sk-container-id-1 div.sk-parallel-item:last-child::after {align-self: flex-start;width: 50%;}#sk-container-id-1 div.sk-parallel-item:only-child::after {width: 0;}#sk-container-id-1 div.sk-dashed-wrapped {border: 1px dashed gray;margin: 0 0.4em 0.5em 0.4em;box-sizing: border-box;padding-bottom: 0.4em;background-color: white;}#sk-container-id-1 div.sk-label label {font-family: monospace;font-weight: bold;display: inline-block;line-height: 1.2em;}#sk-container-id-1 div.sk-label-container {text-align: center;}#sk-container-id-1 div.sk-container {/* jupyter's `normalize.less` sets `[hidden] { display: none; }` but bootstrap.min.css set `[hidden] { display: none !important; }` so we also need the `!important` here to be able to override the default hidden behavior on the sphinx rendered scikit-learn.org. See: https://github.com/scikit-learn/scikit-learn/issues/21755 */display: inline-block !important;position: relative;}#sk-container-id-1 div.sk-text-repr-fallback {display: none;}</style><div id=\"sk-container-id-1\" class=\"sk-top-container\"><div class=\"sk-text-repr-fallback\"><pre>KMeans(n_clusters=5)</pre><b>In a Jupyter environment, please rerun this cell to show the HTML representation or trust the notebook. <br />On GitHub, the HTML representation is unable to render, please try loading this page with nbviewer.org.</b></div><div class=\"sk-container\" hidden><div class=\"sk-item\"><div class=\"sk-estimator sk-toggleable\"><input class=\"sk-toggleable__control sk-hidden--visually\" id=\"sk-estimator-id-1\" type=\"checkbox\" checked><label for=\"sk-estimator-id-1\" class=\"sk-toggleable__label sk-toggleable__label-arrow\">KMeans</label><div class=\"sk-toggleable__content\"><pre>KMeans(n_clusters=5)</pre></div></div></div></div></div>"
      ],
      "text/plain": [
       "KMeans(n_clusters=5)"
      ]
     },
     "execution_count": 4,
     "metadata": {},
     "output_type": "execute_result"
    }
   ],
   "source": [
    "n_comp = 5\n",
    "gmm = GaussianMixture(n_components=n_comp, covariance_type='spherical', max_iter=100)\n",
    "\n",
    "data = load_dataset('landsat')\n",
    "gmm.fit(data)\n",
    "\n",
    "gmm_full = GaussianMixture(n_components=n_comp, covariance_type='tied', max_iter=100)\n",
    "gmm_full.fit(data)\n",
    "\n",
    "gmm.score(data), gmm_full.score(data)\n",
    "\n",
    "kmeans = KMeans(n_clusters=n_comp)\n",
    "\n",
    "kmeans.fit(data)\n"
   ]
  },
  {
   "cell_type": "code",
   "execution_count": 5,
   "id": "1214eae6",
   "metadata": {},
   "outputs": [
    {
     "data": {
      "text/plain": [
       "(0.44595330258613985, 0.4993138231480688, 0.4877439065553476)"
      ]
     },
     "execution_count": 5,
     "metadata": {},
     "output_type": "execute_result"
    }
   ],
   "source": [
    "gmm.predict(data)\n",
    "silhouette_score(data, gmm.predict(data)), silhouette_score(data, gmm_full.predict(data)), silhouette_score(data, kmeans.predict(data))"
   ]
  },
  {
   "cell_type": "code",
   "execution_count": 6,
   "id": "dafe5cf3",
   "metadata": {},
   "outputs": [
    {
     "data": {
      "text/plain": [
       "(39.10301174244565, 61.24189174817785)"
      ]
     },
     "execution_count": 6,
     "metadata": {},
     "output_type": "execute_result"
    }
   ],
   "source": [
    "gmm.score(data), gmm_full.score(data)"
   ]
  },
  {
   "cell_type": "markdown",
   "id": "4dcfbac4",
   "metadata": {},
   "source": [
    "## Write PSO for k means\n",
    "## Abstract enougth to run PSO with GMM with sperical components and diagonal ones\n",
    "## Try to get low variance of inertia/LL"
   ]
  },
  {
   "cell_type": "code",
   "execution_count": 7,
   "id": "819cce78",
   "metadata": {},
   "outputs": [],
   "source": [
    "from copy import deepcopy\n",
    "\n",
    "class Particle:\n",
    "    def __init__(self):\n",
    "        self.state = None\n",
    "        self.pb = None\n",
    "        self.pb_score = -np.inf\n",
    "        self.gb = None\n",
    "    \n",
    "    def step(self):\n",
    "        pass\n",
    "    \n",
    "    def check_pb(self):\n",
    "        if self.score() > self.pb_score:\n",
    "            self.pb = self.copy()\n",
    "    \n",
    "    def score(self):\n",
    "        pass\n",
    "\n",
    "    def finetune(self):\n",
    "        pass\n",
    "    \n",
    "    def set_gb(self, gb):\n",
    "        self.gb = gb.copy()\n",
    "        \n",
    "    def mutation(self):\n",
    "        raise NotImplementedError('Mutation is not implemented')\n",
    "        \n",
    "    \n",
    "class PSO:\n",
    "    def __init__(self, particles, n_steps):\n",
    "        self.particles = particles\n",
    "        self.n_steps = n_steps\n",
    "        self.gb_particle, self.gb_score = None, -np.inf\n",
    "        self.check_gb()\n",
    "        \n",
    "    def check_gb(self):\n",
    "        for particle in self.particles:\n",
    "            score = particle.score()\n",
    "            if score > self.gb_score:\n",
    "                self.gb_score = score\n",
    "                self.gb_particle = particle.copy()\n",
    "                \n",
    "        gb = self.gb_particle.copy()\n",
    "        for particle in self.particles:\n",
    "            particle.set_gb(gb)\n",
    "            \n",
    "    def check_for_mutation(self):\n",
    "        self.gb_score\n",
    "        scores = []\n",
    "        for i, particle in enumerate(self.particles):\n",
    "            p_score = particle.score()\n",
    "            scores.append(p_score)\n",
    "            if np.absolute(p_score - self.gb_score) < 5e-2:\n",
    "                particle.mutation()\n",
    "\n",
    "        # to_mutate = np.argsort(scores)[: int(len(scores) / 5)]\n",
    "\n",
    "        # for i, particle in enumerate(self.particles):\n",
    "        #     if i in to_mutate:\n",
    "        #         particle.mutation()\n",
    "        \n",
    "    def run(self):\n",
    "        print(f'Init: gb ll {self.gb_score}')\n",
    "        for step in range(self.n_steps):\n",
    "            for i, particle in enumerate(self.particles):\n",
    "                particle.step()\n",
    "                particle.finetune()\n",
    "                particle.check_pb()\n",
    "#                 print(f'{i} score {particle.score()}')\n",
    "#             print(f'Step {step} {[item.score() for item in self.particles]}')\n",
    "            self.check_gb()\n",
    "            self.check_for_mutation()\n",
    "        \n",
    "        print(f'Step {step}: gb ll {self.gb_score}')\n",
    "        return self.gb_score\n"
   ]
  },
  {
   "cell_type": "markdown",
   "id": "07f1d052",
   "metadata": {},
   "source": [
    "### For GMM with spherical components"
   ]
  },
  {
   "cell_type": "code",
   "execution_count": 3,
   "id": "571bcd8f",
   "metadata": {},
   "outputs": [
    {
     "ename": "NameError",
     "evalue": "name 'n_comp' is not defined",
     "output_type": "error",
     "traceback": [
      "\u001b[0;31m---------------------------------------------------------------------------\u001b[0m",
      "\u001b[0;31mNameError\u001b[0m                                 Traceback (most recent call last)",
      "Cell \u001b[0;32mIn[3], line 56\u001b[0m\n\u001b[1;32m     52\u001b[0m         \u001b[38;5;28mself\u001b[39m\u001b[38;5;241m.\u001b[39mstate[\u001b[38;5;124m'\u001b[39m\u001b[38;5;124mvar\u001b[39m\u001b[38;5;124m'\u001b[39m] \u001b[38;5;241m=\u001b[39m var\n\u001b[1;32m     53\u001b[0m         \u001b[38;5;28mself\u001b[39m\u001b[38;5;241m.\u001b[39mstate[\u001b[38;5;124m'\u001b[39m\u001b[38;5;124mweights\u001b[39m\u001b[38;5;124m'\u001b[39m] \u001b[38;5;241m=\u001b[39m weights\n\u001b[0;32m---> 56\u001b[0m gmm \u001b[38;5;241m=\u001b[39m GaussianMixture(n_components\u001b[38;5;241m=\u001b[39m\u001b[43mn_comp\u001b[49m, covariance_type\u001b[38;5;241m=\u001b[39m\u001b[38;5;124m'\u001b[39m\u001b[38;5;124mspherical\u001b[39m\u001b[38;5;124m'\u001b[39m, max_iter\u001b[38;5;241m=\u001b[39m\u001b[38;5;241m100\u001b[39m)\n\u001b[1;32m     57\u001b[0m gmm\u001b[38;5;241m.\u001b[39mfit(data)\n\u001b[1;32m     59\u001b[0m init_state \u001b[38;5;241m=\u001b[39m {\u001b[38;5;124m'\u001b[39m\u001b[38;5;124mweights\u001b[39m\u001b[38;5;124m'\u001b[39m: gmm\u001b[38;5;241m.\u001b[39mweights_, \u001b[38;5;124m'\u001b[39m\u001b[38;5;124mmeans\u001b[39m\u001b[38;5;124m'\u001b[39m: gmm\u001b[38;5;241m.\u001b[39mmeans_, \u001b[38;5;124m'\u001b[39m\u001b[38;5;124mvar\u001b[39m\u001b[38;5;124m'\u001b[39m: gmm\u001b[38;5;241m.\u001b[39mcovariances_}\n",
      "\u001b[0;31mNameError\u001b[0m: name 'n_comp' is not defined"
     ]
    }
   ],
   "source": [
    "\n",
    "    \n",
    "class GMMSpherical(Particle):\n",
    "    def __init__(self, data, n_comp, init_state, intertia, r_1, r_2):\n",
    "        super(Particle, self).__init__()\n",
    "        self.state = init_state\n",
    "        self.intertia, self.r_1, self.r_2 = intertia, r_1, r_2\n",
    "        self.velocity = {key: np.zeros_like(value) for key, value in init_state.items()}\n",
    "        self.pb, self.pb_score = deepcopy(self), -np.inf\n",
    "        self.gb = None\n",
    "        self.data = data\n",
    "        self.n_comp = n_comp\n",
    "        \n",
    "    def step(self):\n",
    "        c_1, c_2 = np.random.uniform(), np.random.uniform()\n",
    "        for key in self.velocity.keys():\n",
    "            self.velocity[key] = self.intertia * self.velocity[key] + self.r_1 * c_1 * (self.pb.state[key] - self.state[key]) + self.r_2 * c_2 * (self.gb.state[key] - self.state[key])\n",
    "#             self.velocity[key] += 0.001 * np.random.normal(size=self.velocity[key].shape)\n",
    "            self.state[key] += self.velocity[key]\n",
    "        self.state['var'] = np.absolute(self.state['var'])\n",
    "        self.state['weights'] = np.absolute(self.state['weights'])\n",
    "        self.state['weights'] = self.state['weights'] / np.sum(self.state['weights'])\n",
    "        \n",
    "    def score(self):\n",
    "        # create sklearn.mixture.Gmm from self.state\n",
    "        means = self.state['means']\n",
    "        var = self.state['var']\n",
    "        weights = self.state['weights']\n",
    "        \n",
    "        gmm = GaussianMixture(n_components=n_comp, covariance_type='spherical', max_iter=0)\n",
    "        \n",
    "        cholesky = 1 / np.sqrt(var)\n",
    "        gmm.weights_ = weights\n",
    "        gmm.means_ = means\n",
    "        gmm.precisions_cholesky_ = cholesky\n",
    "        \n",
    "        return gmm.score(self.data)\n",
    "    \n",
    "    def finetune(self):\n",
    "        \n",
    "        means = self.state['means']\n",
    "        var = self.state['var']\n",
    "        prec = 1 / var\n",
    "        weights = self.state['weights']\n",
    "        \n",
    "        gmm = GaussianMixture(n_components=self.n_comp, covariance_type='spherical', weights_init=weights, means_init=means, precisions_init=prec, max_iter=100,  verbose=0, verbose_interval=1)\n",
    "        gmm.fit(self.data)\n",
    "        \n",
    "        weights = gmm.weights_\n",
    "        means = gmm.means_\n",
    "        var = 1 / gmm.precisions_\n",
    "        \n",
    "        self.state['means'] = means\n",
    "        self.state['var'] = var\n",
    "        self.state['weights'] = weights\n",
    "        \n",
    "\n",
    "gmm = GaussianMixture(n_components=n_comp, covariance_type='spherical', max_iter=100)\n",
    "gmm.fit(data)\n",
    "\n",
    "init_state = {'weights': gmm.weights_, 'means': gmm.means_, 'var': gmm.covariances_}\n",
    "\n",
    "particle = GMMSpherical(data, n_comp, init_state, 0.4, 0.4, 0.6)\n",
    "particle.set_gb(particle)\n",
    "print(particle.score())\n",
    "print(particle.step())\n",
    "print(particle.score())\n",
    "particle.finetune()\n",
    "particle.score()"
   ]
  },
  {
   "cell_type": "code",
   "execution_count": 7,
   "id": "8959e513",
   "metadata": {},
   "outputs": [
    {
     "data": {
      "text/plain": [
       "0"
      ]
     },
     "execution_count": 7,
     "metadata": {},
     "output_type": "execute_result"
    }
   ],
   "source": [
    "pso = None\n",
    "import gc\n",
    "gc.collect()"
   ]
  },
  {
   "cell_type": "code",
   "execution_count": 8,
   "id": "ea5b67c4",
   "metadata": {},
   "outputs": [],
   "source": [
    "def create_spherical_particles(n_particles, n_comp, data):\n",
    "    particles = []\n",
    "    for i in range(n_particles):\n",
    "        gmm = GaussianMixture(n_components=n_comp, covariance_type='spherical', max_iter=100)\n",
    "        gmm.fit(data)\n",
    "        \n",
    "        weights = gmm.weights_\n",
    "        means = gmm.means_\n",
    "        var = 1 / gmm.precisions_\n",
    "        state = {'weights': gmm.weights_, 'means': gmm.means_, 'var': gmm.covariances_}\n",
    "        particles.append(state)\n",
    "        \n",
    "    return [GMMSpherical(data, n_comp, state, 0.4, 0.4, 0.6) for state in particles]\n",
    "\n",
    "particles = create_spherical_particles(50, 10, data)\n"
   ]
  },
  {
   "cell_type": "code",
   "execution_count": null,
   "id": "90314584",
   "metadata": {},
   "outputs": [],
   "source": []
  },
  {
   "cell_type": "code",
   "execution_count": 9,
   "id": "3271b56a",
   "metadata": {},
   "outputs": [
    {
     "name": "stdout",
     "output_type": "stream",
     "text": [
      "Init: gb ll 47.488585306784685\n",
      "Step 0: gb ll 47.50107914869202\n"
     ]
    },
    {
     "ename": "NotImplementedError",
     "evalue": "Mutation is not implemented",
     "output_type": "error",
     "traceback": [
      "\u001b[0;31m---------------------------------------------------------------------------\u001b[0m",
      "\u001b[0;31mNotImplementedError\u001b[0m                       Traceback (most recent call last)",
      "Cell \u001b[0;32mIn[9], line 2\u001b[0m\n\u001b[1;32m      1\u001b[0m pso \u001b[38;5;241m=\u001b[39m PSO(particles, \u001b[38;5;241m5\u001b[39m)\n\u001b[0;32m----> 2\u001b[0m \u001b[43mpso\u001b[49m\u001b[38;5;241;43m.\u001b[39;49m\u001b[43mrun\u001b[49m\u001b[43m(\u001b[49m\u001b[43m)\u001b[49m\n",
      "Cell \u001b[0;32mIn[5], line 65\u001b[0m, in \u001b[0;36mPSO.run\u001b[0;34m(self)\u001b[0m\n\u001b[1;32m     63\u001b[0m     \u001b[38;5;28mself\u001b[39m\u001b[38;5;241m.\u001b[39mcheck_gb()\n\u001b[1;32m     64\u001b[0m     \u001b[38;5;28mprint\u001b[39m(\u001b[38;5;124mf\u001b[39m\u001b[38;5;124m'\u001b[39m\u001b[38;5;124mStep \u001b[39m\u001b[38;5;132;01m{\u001b[39;00mstep\u001b[38;5;132;01m}\u001b[39;00m\u001b[38;5;124m: gb ll \u001b[39m\u001b[38;5;132;01m{\u001b[39;00m\u001b[38;5;28mself\u001b[39m\u001b[38;5;241m.\u001b[39mgb_score\u001b[38;5;132;01m}\u001b[39;00m\u001b[38;5;124m'\u001b[39m)\n\u001b[0;32m---> 65\u001b[0m     \u001b[38;5;28;43mself\u001b[39;49m\u001b[38;5;241;43m.\u001b[39;49m\u001b[43mcheck_for_mutation\u001b[49m\u001b[43m(\u001b[49m\u001b[43m)\u001b[49m\n\u001b[1;32m     66\u001b[0m \u001b[38;5;28;01mreturn\u001b[39;00m \u001b[38;5;28mself\u001b[39m\u001b[38;5;241m.\u001b[39mgb_score\n",
      "Cell \u001b[0;32mIn[5], line 52\u001b[0m, in \u001b[0;36mPSO.check_for_mutation\u001b[0;34m(self)\u001b[0m\n\u001b[1;32m     50\u001b[0m p_score \u001b[38;5;241m=\u001b[39m particle\u001b[38;5;241m.\u001b[39mscore()\n\u001b[1;32m     51\u001b[0m \u001b[38;5;28;01mif\u001b[39;00m np\u001b[38;5;241m.\u001b[39mabsolute(p_score \u001b[38;5;241m-\u001b[39m \u001b[38;5;28mself\u001b[39m\u001b[38;5;241m.\u001b[39mgb_score) \u001b[38;5;241m<\u001b[39m \u001b[38;5;241m5e-2\u001b[39m:\n\u001b[0;32m---> 52\u001b[0m     \u001b[43mparticle\u001b[49m\u001b[38;5;241;43m.\u001b[39;49m\u001b[43mmutation\u001b[49m\u001b[43m(\u001b[49m\u001b[43m)\u001b[49m\n",
      "Cell \u001b[0;32mIn[5], line 27\u001b[0m, in \u001b[0;36mParticle.mutation\u001b[0;34m(self)\u001b[0m\n\u001b[1;32m     26\u001b[0m \u001b[38;5;28;01mdef\u001b[39;00m \u001b[38;5;21mmutation\u001b[39m(\u001b[38;5;28mself\u001b[39m):\n\u001b[0;32m---> 27\u001b[0m     \u001b[38;5;28;01mraise\u001b[39;00m \u001b[38;5;167;01mNotImplementedError\u001b[39;00m(\u001b[38;5;124m'\u001b[39m\u001b[38;5;124mMutation is not implemented\u001b[39m\u001b[38;5;124m'\u001b[39m)\n",
      "\u001b[0;31mNotImplementedError\u001b[0m: Mutation is not implemented"
     ]
    }
   ],
   "source": [
    "pso = PSO(particles, 5)\n",
    "pso.run()"
   ]
  },
  {
   "cell_type": "code",
   "execution_count": null,
   "id": "dfe013c6",
   "metadata": {},
   "outputs": [
    {
     "ename": "KeyboardInterrupt",
     "evalue": "",
     "output_type": "error",
     "traceback": [
      "\u001b[0;31m---------------------------------------------------------------------------\u001b[0m",
      "\u001b[0;31mKeyboardInterrupt\u001b[0m                         Traceback (most recent call last)",
      "File \u001b[0;32m<__array_function__ internals>:177\u001b[0m, in \u001b[0;36mwhere\u001b[0;34m(*args, **kwargs)\u001b[0m\n",
      "\u001b[0;31mKeyboardInterrupt\u001b[0m: "
     ]
    },
    {
     "name": "stderr",
     "output_type": "stream",
     "text": [
      "Exception ignored in: 'sklearn.cluster._k_means_common._relocate_empty_clusters_dense'\n",
      "Traceback (most recent call last):\n",
      "  File \"<__array_function__ internals>\", line 177, in where\n",
      "KeyboardInterrupt: \n"
     ]
    }
   ],
   "source": [
    "\n",
    "gmm = GaussianMixture(n_components=n_comp, covariance_type='spherical', max_iter=100, n_init=300)\n",
    "gmm.fit(data)\n",
    "gmm.score(data)"
   ]
  },
  {
   "cell_type": "code",
   "execution_count": 7,
   "id": "189581ca",
   "metadata": {},
   "outputs": [],
   "source": [
    "\n",
    "data = load_dataset('breast_cancer')"
   ]
  },
  {
   "cell_type": "code",
   "execution_count": 8,
   "id": "4b0566b9",
   "metadata": {},
   "outputs": [
    {
     "data": {
      "text/plain": [
       "(569, 30)"
      ]
     },
     "execution_count": 8,
     "metadata": {},
     "output_type": "execute_result"
    }
   ],
   "source": [
    "data.shape"
   ]
  },
  {
   "cell_type": "markdown",
   "id": "424d3cd8",
   "metadata": {},
   "source": [
    "### For GMM with diagonal covariance matrices"
   ]
  },
  {
   "cell_type": "code",
   "execution_count": 8,
   "id": "5fa97ec4",
   "metadata": {},
   "outputs": [],
   "source": [
    "\n",
    "\n",
    "class GMMDiagonal(Particle):\n",
    "    def __init__(self, data, n_comp, init_state, intertia, r_1, r_2):\n",
    "        super(Particle, self).__init__()\n",
    "        self.state = init_state\n",
    "        self.intertia, self.r_1, self.r_2 = intertia, r_1, r_2\n",
    "        self.velocity = {key: np.zeros_like(value) for key, value in init_state.items()}\n",
    "        self.gb = None\n",
    "        self.data = data\n",
    "        self.n_comp = n_comp\n",
    "        self.pb, self.pb_score = None, -np.inf\n",
    "        self.history = []\n",
    "        self.em_iters = 0\n",
    "        \n",
    "    def step(self):\n",
    "        if self.pb is None:\n",
    "            self.pb = self.copy()\n",
    "        c_1, c_2 = np.random.uniform(), np.random.uniform()\n",
    "        for key in self.velocity.keys():\n",
    "            self.velocity[key] = self.intertia * self.velocity[key] + self.r_1 * c_1 * (self.pb.state[key] - self.state[key]) + self.r_2 * c_2 * (self.gb.state[key] - self.state[key])\n",
    "#             self.velocity[key] += 0.001 * np.random.normal(size=self.velocity[key].shape)\n",
    "            self.state[key] += self.velocity[key]\n",
    "        self.state['var'] = np.absolute(self.state['var'])\n",
    "        self.state['weights'] = np.absolute(self.state['weights'])\n",
    "        self.state['weights'] = self.state['weights'] / np.sum(self.state['weights'])\n",
    "        \n",
    "    def mutation(self):\n",
    "        self.state['means'] += 0.01 * np.random.normal(size=self.state['means'].shape)\n",
    "#         print(np.mean(self.state['means']))\n",
    "        self.state['var'] += 0.1 * np.random.uniform() * self.state['var']\n",
    "        \n",
    "    def score(self):\n",
    "        # create sklearn.mixture.Gmm from self.state\n",
    "        \n",
    "        means = self.state['means']\n",
    "        var = self.state['var']\n",
    "        weights = self.state['weights']\n",
    "        \n",
    "        gmm = GaussianMixture(n_components=n_comp, covariance_type='diag', max_iter=0)\n",
    "        \n",
    "        cholesky = 1 / np.sqrt(var)\n",
    "        gmm.weights_ = weights\n",
    "        gmm.means_ = means\n",
    "        gmm.precisions_cholesky_ = cholesky\n",
    "        \n",
    "        return gmm.score(self.data)\n",
    "    \n",
    "    def finetune(self):\n",
    "        \n",
    "        means = self.state['means']\n",
    "        var = self.state['var']\n",
    "        prec = 1 / var\n",
    "        weights = self.state['weights']\n",
    "        \n",
    "        gmm = GaussianMixture(n_components=self.n_comp, covariance_type='diag', weights_init=weights, means_init=means, precisions_init=prec, max_iter=100,  verbose=0, verbose_interval=1)\n",
    "        gmm.fit(self.data)\n",
    "        self.em_iters += gmm.n_iter_\n",
    "        \n",
    "        weights = gmm.weights_\n",
    "        means = gmm.means_\n",
    "        var = 1 / gmm.precisions_\n",
    "        \n",
    "        self.state['means'] = means\n",
    "        self.state['var'] = var\n",
    "        self.state['weights'] = weights\n",
    "        \n",
    "        self.history.append(self.score())\n",
    "\n",
    "    def copy(self):\n",
    "        state_copy = deepcopy(self.state)\n",
    "        return GMMDiagonal(self.data, self.n_comp, state_copy, self.intertia, self.r_1, self.r_2)\n",
    "        "
   ]
  },
  {
   "cell_type": "code",
   "execution_count": 9,
   "id": "eafcf87a",
   "metadata": {},
   "outputs": [
    {
     "name": "stdout",
     "output_type": "stream",
     "text": [
      "40.88813611419647\n",
      "None\n",
      "40.88813611419647\n",
      "40.888630951977426\n",
      "40.40779396950787\n"
     ]
    },
    {
     "data": {
      "text/plain": [
       "[40.888630951977426]"
      ]
     },
     "execution_count": 9,
     "metadata": {},
     "output_type": "execute_result"
    }
   ],
   "source": [
    "\n",
    "gmm = GaussianMixture(n_components=n_comp, covariance_type='diag', max_iter=100)\n",
    "gmm.fit(data)\n",
    "\n",
    "init_state = {'weights': gmm.weights_, 'means': gmm.means_, 'var': gmm.covariances_}\n",
    "\n",
    "particle = GMMDiagonal(data, n_comp, init_state, 0.4, 0.4, 0.6)\n",
    "particle.set_gb(particle)\n",
    "print(particle.score())\n",
    "print(particle.step())\n",
    "print(particle.score())\n",
    "particle.finetune()\n",
    "print(particle.score())\n",
    "particle.mutation()\n",
    "print(particle.score())\n",
    "particle.history"
   ]
  },
  {
   "cell_type": "code",
   "execution_count": 10,
   "id": "495af118",
   "metadata": {},
   "outputs": [],
   "source": [
    "def create_diag_particles(n_particles, n_comp, data):\n",
    "    particles = []\n",
    "    for i in range(n_particles):\n",
    "        gmm = GaussianMixture(n_components=n_comp, covariance_type='diag', max_iter=100)\n",
    "        gmm.fit(data)\n",
    "        \n",
    "        weights = gmm.weights_\n",
    "        means = gmm.means_\n",
    "        var = 1 / gmm.precisions_\n",
    "        state = {'weights': gmm.weights_, 'means': gmm.means_, 'var': gmm.covariances_}\n",
    "        particles.append(state)\n",
    "        \n",
    "    return [GMMDiagonal(data, n_comp, state, 0.4, 0.4, 0.6) for state in particles]\n"
   ]
  },
  {
   "cell_type": "code",
   "execution_count": 12,
   "id": "f363a60d",
   "metadata": {
    "scrolled": true
   },
   "outputs": [
    {
     "name": "stdout",
     "output_type": "stream",
     "text": [
      "\n",
      "Init: gb ll 33.49287247418651\n",
      "Step 4: gb ll 33.49293350108994\n",
      "EM steps: 4154\n",
      "Init: gb ll 33.49287247418653\n",
      "Step 4: gb ll 33.492930321048306\n",
      "EM steps: 3692\n",
      "Init: gb ll 33.234882829824585\n",
      "Step 4: gb ll 33.49293345345292\n",
      "EM steps: 4055\n",
      "Init: gb ll 33.23485484095328\n",
      "Step 4: gb ll 33.492864297367866\n",
      "EM steps: 4288\n",
      "Init: gb ll 33.23481151460825\n",
      "Step 4: gb ll 33.49288916102982\n",
      "EM steps: 4012\n",
      "Init: gb ll 33.234882829824585\n",
      "Step 4: gb ll 33.49292566080795\n",
      "EM steps: 4103\n",
      "Init: gb ll 33.42331708270462\n",
      "Step 4: gb ll 33.492874526955816\n",
      "EM steps: 4327\n",
      "Init: gb ll 33.234842569109595\n",
      "Step 4: gb ll 33.49291159820052\n",
      "EM steps: 4137\n",
      "Init: gb ll 33.23488282982456\n",
      "Step 4: gb ll 33.49287971017233\n",
      "EM steps: 4139\n",
      "Init: gb ll 33.423317082704614\n",
      "Step 4: gb ll 33.49292703090857\n",
      "EM steps: 3834\n",
      "Init: gb ll 33.44608475890549\n",
      "Step 4: gb ll 33.492892054242006\n",
      "EM steps: 4843\n",
      "Init: gb ll 33.23488282982457\n",
      "Step 4: gb ll 33.492910301680936\n",
      "EM steps: 3986\n",
      "Init: gb ll 33.23483054698039\n",
      "Step 4: gb ll 33.49288982791101\n",
      "EM steps: 4290\n",
      "Init: gb ll 33.492766376554144\n",
      "Step 4: gb ll 33.49292423413063\n",
      "EM steps: 3617\n",
      "Init: gb ll 33.23485873836006\n",
      "Step 4: gb ll 33.49289866568093\n",
      "EM steps: 3811\n",
      "Init: gb ll 33.23488282982457\n",
      "Step 4: gb ll 33.492892306339\n",
      "EM steps: 4258\n",
      "Init: gb ll 33.23485484095329\n",
      "Step 4: gb ll 33.49289869528927\n",
      "EM steps: 4322\n",
      "Init: gb ll 33.440719741056654\n",
      "Step 4: gb ll 33.49292683279263\n",
      "EM steps: 3838\n",
      "Init: gb ll 33.23488282982457\n",
      "Step 4: gb ll 33.492931829915086\n",
      "EM steps: 3822\n",
      "Init: gb ll 33.492663614304355\n",
      "Step 4: gb ll 33.49292122673302\n",
      "EM steps: 3866\n",
      "Mean Number of EM iterations: 4069.7\n",
      "N=50, M=5 K-means random init 33.326148181725756 +- 0.11346253045417797 PSO 33.49290776178742 +- 2.125877583141347e-05\n"
     ]
    }
   ],
   "source": [
    "data = load_dataset('breast_cancer')\n",
    "# data = load_nci9()\n",
    "n_comp = 5\n",
    "n_runs = 20\n",
    "res_pso = []\n",
    "res_random_init = []\n",
    "N = 50\n",
    "M = 5\n",
    "em_iters_list = []\n",
    "# input()\n",
    "for n in range(n_runs):\n",
    "    particles = create_diag_particles(N, n_comp, data)\n",
    "    res_random_init.append(np.max([p.score() for p in particles]))\n",
    "    pso = PSO(particles, M)\n",
    "    pso.run()\n",
    "    res_pso.append(pso.gb_score)\n",
    "    print(f'EM steps: {np.sum([p.em_iters for p in pso.particles])}')\n",
    "    em_iters_list.append(np.sum([p.em_iters for p in pso.particles]))\n",
    "\n",
    "print(f'Mean Number of EM iterations: {np.mean(em_iters_list)}')\n",
    "print(f'N={N}, M={M} K-means random init {np.mean(res_random_init)} +- {np.std(res_random_init)} PSO {np.mean(res_pso)} +- {np.std(res_pso)}')\n"
   ]
  },
  {
   "cell_type": "code",
   "execution_count": 19,
   "id": "e7b7d1a2",
   "metadata": {},
   "outputs": [],
   "source": [
    "exp_res_landsat_pso = [(348, 41.78), (103, 41.53), (1566, 41.82)]\n",
    "exp_res_landsat_em = [(106, 41.21), (371, 41.34), (1570, 41.45)]\n",
    "\n",
    "exp_res_seg_pso = {2: (70, 36.95), 5: (203, 37.7), 10: (412, 38.3), 20: (865, 38.416), 50: (2226, 38.59)} # 2, 5, 10, 20, 50\n",
    "exp_res_seg_em = [(200 , 36.99), (400, 37.13), (860, 37.16), (70, 36.58), (2226, 37.20), (28, 35.6), (140, 36.7), (280, 37.11), (1400, 37.13)]\n",
    "\n",
    "exp_res_dict = {2: (28, 35.6),5: (70, 36.58), 10: (140, 36.7), 20: (280, 37.11), 50: (1400, 37.13)}\n",
    "\n",
    "exp_res_bc_pso = {2: (98, 33.25), 5: (376, 33.41), 10: (803, 33.46), 20: (1656.0, 33.49), 50: (4069, 33.49)}\n",
    "\n",
    "exp_res_bc_em = {2: (39, 33.13), 5: (90, 33.22), 10: (186, 33.25), 20: (370, 33.29), 50: ()}\n",
    "\n",
    "exp_res_bc_em = [(39, 33.13), (90, 33.22),(186, 33.25), (370, 33.29), (800, 33.36), (1650, 33.44), (2775, 33.451),  (4069, 33.455)]\n"
   ]
  },
  {
   "cell_type": "code",
   "execution_count": 17,
   "id": "88660a5b",
   "metadata": {},
   "outputs": [],
   "source": [
    "M = 5"
   ]
  },
  {
   "cell_type": "code",
   "execution_count": 17,
   "id": "4d40c145",
   "metadata": {},
   "outputs": [
    {
     "name": "stdout",
     "output_type": "stream",
     "text": [
      "33.49285943659926\n",
      "33.40943835964332\n",
      "33.49274587621962\n",
      "33.492872474186555\n",
      "33.45300178142376\n",
      "33.43857861756557\n",
      "33.42320222227844\n",
      "33.49275735897843\n",
      "33.442605882030236\n",
      "33.42337577471365\n",
      "33.49275979305941\n",
      "33.49268964715638\n",
      "33.44601738590859\n",
      "33.44401796090448\n",
      "33.44108260904501\n",
      "33.49287247418651\n",
      "33.443084185711605\n",
      "33.49287247418655\n",
      "33.492820493864635\n",
      "33.23484928831142\n",
      "EM res: 33.45172520479868 +- 0.057518051831744986\n"
     ]
    }
   ],
   "source": [
    "res = []\n",
    "em_iters_list = []\n",
    "\n",
    "n_runs = 20\n",
    "for n in range(n_runs):\n",
    "    gmm = GaussianMixture(n_components=n_comp, covariance_type='diag', max_iter=100, n_init=150)\n",
    "    gmm.fit(data)\n",
    "    print(gmm.score(data))\n",
    "    res.append(gmm.score(data))\n",
    "    \n",
    "print(f'EM res: {np.mean(res)} +- {np.std(res)}')\n"
   ]
  },
  {
   "cell_type": "code",
   "execution_count": 13,
   "id": "78eeaa7f",
   "metadata": {},
   "outputs": [
    {
     "data": {
      "text/plain": [
       "19.8"
      ]
     },
     "execution_count": 13,
     "metadata": {},
     "output_type": "execute_result"
    }
   ],
   "source": [
    "trials = 10\n",
    "em_iters_list = []\n",
    "\n",
    "for i in range(trials):\n",
    "    gmm = GaussianMixture(n_components=n_comp, covariance_type='diag', max_iter=100, n_init=1)\n",
    "    gmm.fit(data)\n",
    "    em_iters_list.append(gmm.n_iter_)\n",
    "    \n",
    "np.mean(em_iters_list)\n"
   ]
  },
  {
   "cell_type": "code",
   "execution_count": 14,
   "id": "bc0c8d1a",
   "metadata": {},
   "outputs": [
    {
     "data": {
      "text/plain": [
       "221.40540540540542"
      ]
     },
     "execution_count": 14,
     "metadata": {},
     "output_type": "execute_result"
    }
   ],
   "source": [
    "4096 / 18.5"
   ]
  },
  {
   "cell_type": "code",
   "execution_count": 18,
   "id": "ecebb054",
   "metadata": {},
   "outputs": [
    {
     "data": {
      "text/plain": [
       "2775.0"
      ]
     },
     "execution_count": 18,
     "metadata": {},
     "output_type": "execute_result"
    }
   ],
   "source": [
    "150 * 18.5"
   ]
  },
  {
   "cell_type": "code",
   "execution_count": 76,
   "id": "b370bd66",
   "metadata": {},
   "outputs": [],
   "source": [
    "\n",
    "exp_res_landsat_pso = [(348, 41.78), (103, 41.53), (1566, 41.82)]\n",
    "exp_res_landsat_em = [(106, 41.21), (371, 41.34), (1570, 41.45)]\n",
    "exp_res_seg_pso = {5: (203, 37.7), 10: (412, 38.3), 20: (865, 38.416), 2: (70, 36.95), 50: (2226, 38.59)} # 2, 5, 10, 20, 50\n",
    "exp_res_seg_em = [(200 , 36.99), (400, 37.13), (860, 37.16), (70, 36.58), (2226, 37.20), (28, 35.6), (140, 36.7), (280, 37.11), (1400, 37.13)]\n",
    "exp_res_dict = {2: (28, 35.6),5: (70, 36.58), 10: (140, 36.7), 20: (280, 37.11), 50: (700, 37.13)}\n"
   ]
  },
  {
   "cell_type": "code",
   "execution_count": 94,
   "id": "b748b7a6",
   "metadata": {},
   "outputs": [
    {
     "data": {
      "image/png": "[encoded data removed]",
      "text/plain": [
       "<Figure size 640x480 with 1 Axes>"
      ]
     },
     "metadata": {},
     "output_type": "display_data"
    }
   ],
   "source": [
    "import matplotlib.pyplot as plt\n",
    "colors = ['blue', 'green', 'black', 'red', 'orange']\n",
    "plt.plot(np.sort([item[0] for item in exp_res_seg_em]), np.sort([item[1] for item in exp_res_seg_em]), label='EM')\n",
    "plt.plot(np.sort([item[0] for item in exp_res_seg_pso.values()]), np.sort([item[1] for item in exp_res_seg_pso.values()]), label='EM + PSO')\n",
    "\n",
    "plt.legend()\n",
    "plt.ylabel(\"LogLikelihood\")\n",
    "plt.xlabel(\"EM iterations\")\n",
    "\n",
    "plt.title('LandSat')\n",
    "\n",
    "for i, (key, value) in enumerate(exp_res_seg_pso.items()):\n",
    "    exp_res_seg_pso[key]\n",
    "    plt.scatter(exp_res_seg_pso[key][0], exp_res_seg_pso[key][1], marker='*', c=colors[i])\n",
    "    plt.scatter(exp_res_dict[key][0], exp_res_dict[key][1], marker='*', c=colors[i])\n",
    "\n"
   ]
  },
  {
   "cell_type": "code",
   "execution_count": 23,
   "id": "ad1bc678",
   "metadata": {},
   "outputs": [
    {
     "data": {
      "text/plain": [
       "Text(0.5, 0, 'EM iterations')"
      ]
     },
     "execution_count": 23,
     "metadata": {},
     "output_type": "execute_result"
    },
    {
     "data": {
      "image/png": "[encoded data removed]",
      "text/plain": [
       "<Figure size 640x480 with 1 Axes>"
      ]
     },
     "metadata": {},
     "output_type": "display_data"
    }
   ],
   "source": [
    "import matplotlib.pyplot as plt\n",
    "\n",
    "exp_res_bc_pso = {2: (98, 33.25), 5: (376, 33.41), 10: (803, 33.46), 20: (1656.0, 33.49), 50: (4069, 33.49)}\n",
    "\n",
    "exp_res_bc_em_dict = {2: (39, 33.13), 5: (90, 33.22), 10: (186, 33.25), 20: (370, 33.29), 50: (4069, 33.49)}\n",
    "\n",
    "exp_res_bc_em = [(39, 33.13), (90, 33.22),(186, 33.25), (370, 33.29), (800, 33.36), (1650, 33.44), (2775, 33.451),  (4069, 33.455)]\n",
    "\n",
    "colors = ['blue', 'green', 'black', 'red', 'orange']\n",
    "plt.plot(np.sort([item[0] for item in exp_res_bc_em]), np.sort([item[1] for item in exp_res_bc_em]), label='EM')\n",
    "plt.plot(np.sort([item[0] for item in exp_res_bc_pso.values()]), np.sort([item[1] for item in exp_res_bc_pso.values()]), label='EM + PSO')\n",
    "\n",
    "for i, (key, value) in enumerate(exp_res_bc_pso.items()):\n",
    "    exp_res_seg_pso[key]\n",
    "    plt.scatter(exp_res_bc_pso[key][0], exp_res_bc_pso[key][1], marker='*', c=colors[i])\n",
    "    plt.scatter(exp_res_bc_em_dict[key][0], exp_res_bc_em_dict[key][1], marker='*', c=colors[i])\n",
    "    \n",
    "plt.title('Breast Cancer')\n",
    "plt.legend()\n",
    "plt.ylabel(\"LogLikelihood\")\n",
    "plt.xlabel(\"EM iterations\")\n"
   ]
  },
  {
   "cell_type": "code",
   "execution_count": null,
   "id": "51d3c4a4",
   "metadata": {},
   "outputs": [],
   "source": []
  }
 ],
 "metadata": {
  "kernelspec": {
   "display_name": "Python 3 (ipykernel)",
   "language": "python",
   "name": "python3"
  },
  "language_info": {
   "codemirror_mode": {
    "name": "ipython",
    "version": 3
   },
   "file_extension": ".py",
   "mimetype": "text/x-python",
   "name": "python",
   "nbconvert_exporter": "python",
   "pygments_lexer": "ipython3",
   "version": "3.10.6"
  }
 },
 "nbformat": 4,
 "nbformat_minor": 5
}
